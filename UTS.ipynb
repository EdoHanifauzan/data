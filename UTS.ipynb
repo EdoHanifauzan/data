{
  "nbformat": 4,
  "nbformat_minor": 0,
  "metadata": {
    "colab": {
      "provenance": [],
      "authorship_tag": "ABX9TyOjIy8HHtgFpQyrBxrN1ROE",
      "include_colab_link": true
    },
    "kernelspec": {
      "name": "python3",
      "display_name": "Python 3"
    },
    "language_info": {
      "name": "python"
    }
  },
  "cells": [
    {
      "cell_type": "markdown",
      "metadata": {
        "id": "view-in-github",
        "colab_type": "text"
      },
      "source": [
        "<a href=\"https://colab.research.google.com/github/EdoHanifauzan/data/blob/Notebook/UTS.ipynb\" target=\"_parent\"><img src=\"https://colab.research.google.com/assets/colab-badge.svg\" alt=\"Open In Colab\"/></a>"
      ]
    },
    {
      "cell_type": "markdown",
      "source": [
        "#UTS"
      ],
      "metadata": {
        "id": "SW3YRnmkl4-_"
      }
    },
    {
      "cell_type": "code",
      "execution_count": 154,
      "metadata": {
        "id": "IBvRWWDRltgk"
      },
      "outputs": [],
      "source": [
        "import numpy as np\n",
        "import pandas as pd\n",
        "import matplotlib.pyplot as plt\n",
        "import seaborn as sns\n",
        "\n",
        "from sklearn.preprocessing import LabelEncoder\n",
        "from sklearn.preprocessing import StandardScaler\n",
        "from sklearn.model_selection import train_test_split\n",
        "from sklearn.neighbors import KNeighborsClassifier\n",
        "from sklearn.metrics import classification_report\n",
        "from sklearn.metrics import confusion_matrix\n",
        "from sklearn.metrics import ConfusionMatrixDisplay"
      ]
    },
    {
      "cell_type": "code",
      "source": [
        "url_dataset = \"https://raw.githubusercontent.com/EdoHanifauzan/data/main/dataR2.csv\"\n",
        "duts = pd.read_csv(url_dataset)"
      ],
      "metadata": {
        "id": "PGBO5jWsl73Z"
      },
      "execution_count": 170,
      "outputs": []
    },
    {
      "cell_type": "code",
      "source": [
        "#check number of rows and columns in dataset\n",
        "duts.shape"
      ],
      "metadata": {
        "colab": {
          "base_uri": "https://localhost:8080/"
        },
        "id": "K5pcRvfdmPBt",
        "outputId": "3d3cc283-13f8-4c23-c1af-bb225b174439"
      },
      "execution_count": 156,
      "outputs": [
        {
          "output_type": "execute_result",
          "data": {
            "text/plain": [
              "(116, 10)"
            ]
          },
          "metadata": {},
          "execution_count": 156
        }
      ]
    },
    {
      "cell_type": "code",
      "source": [
        "duts.head"
      ],
      "metadata": {
        "colab": {
          "base_uri": "https://localhost:8080/"
        },
        "id": "-6dEkdMopzG0",
        "outputId": "b5971e8a-36ae-4eab-ad3a-c7deae7e4991"
      },
      "execution_count": 157,
      "outputs": [
        {
          "output_type": "execute_result",
          "data": {
            "text/plain": [
              "<bound method NDFrame.head of      Age        BMI  Glucose  Insulin      HOMA   Leptin  Adiponectin  \\\n",
              "0     48  23.500000       70    2.707  0.467409   8.8071     9.702400   \n",
              "1     83  20.690495       92    3.115  0.706897   8.8438     5.429285   \n",
              "2     82  23.124670       91    4.498  1.009651  17.9393    22.432040   \n",
              "3     68  21.367521       77    3.226  0.612725   9.8827     7.169560   \n",
              "4     86  21.111111       92    3.549  0.805386   6.6994     4.819240   \n",
              "..   ...        ...      ...      ...       ...      ...          ...   \n",
              "111   45  26.850000       92    3.330  0.755688  54.6800    12.100000   \n",
              "112   62  26.840000      100    4.530  1.117400  12.4500    21.420000   \n",
              "113   65  32.050000       97    5.730  1.370998  61.4800    22.540000   \n",
              "114   72  25.590000       82    2.820  0.570392  24.9600    33.750000   \n",
              "115   86  27.180000      138   19.910  6.777364  90.2800    14.110000   \n",
              "\n",
              "     Resistin    MCP.1  Classification  \n",
              "0     7.99585  417.114               1  \n",
              "1     4.06405  468.786               1  \n",
              "2     9.27715  554.697               1  \n",
              "3    12.76600  928.220               1  \n",
              "4    10.57635  773.920               1  \n",
              "..        ...      ...             ...  \n",
              "111  10.96000  268.230               2  \n",
              "112   7.32000  330.160               2  \n",
              "113  10.33000  314.050               2  \n",
              "114   3.27000  392.460               2  \n",
              "115   4.35000   90.090               2  \n",
              "\n",
              "[116 rows x 10 columns]>"
            ]
          },
          "metadata": {},
          "execution_count": 157
        }
      ]
    },
    {
      "cell_type": "code",
      "source": [
        "X = duts.iloc[:,:-1].values\n",
        "y = duts.iloc[:, 9].values"
      ],
      "metadata": {
        "id": "v1OWcfXLoud9"
      },
      "execution_count": 158,
      "outputs": []
    },
    {
      "cell_type": "markdown",
      "source": [
        "Pada tahap ini data yang jumlahnya 1516ajan dibagi menjadi data latih dan data uji dengan menggunakan **train_test_split ** agar data yang dibagi seimbang"
      ],
      "metadata": {
        "id": "JZ2cRnAYz9BO"
      }
    },
    {
      "cell_type": "code",
      "source": [
        "X_train, X_test, y_train, y_test = train_test_split(X, y, test_size=0.25, shuffle=True, stratify=y, random_state=0)"
      ],
      "metadata": {
        "id": "B9Wvcze8otLF"
      },
      "execution_count": 159,
      "outputs": []
    },
    {
      "cell_type": "code",
      "source": [
        "print(X_train)"
      ],
      "metadata": {
        "colab": {
          "base_uri": "https://localhost:8080/"
        },
        "id": "_QrKuxWZo49y",
        "outputId": "9f15c35b-01e4-4bb9-8404-28881a9fcdd5"
      },
      "execution_count": 160,
      "outputs": [
        {
          "output_type": "stream",
          "name": "stdout",
          "text": [
            "[[6.90000000e+01 3.25000000e+01 9.30000000e+01 5.43000000e+00\n",
            "  1.24564200e+00 1.51450000e+01 1.17879600e+01 1.17879600e+01\n",
            "  2.70142000e+02]\n",
            " [7.10000000e+01 2.79155188e+01 1.04000000e+02 1.82000000e+01\n",
            "  4.66890667e+00 5.34997000e+01 1.65602000e+00 4.92418400e+01\n",
            "  2.56001000e+02]\n",
            " [5.90000000e+01 2.86726261e+01 7.70000000e+01 3.18800000e+00\n",
            "  6.05507467e-01 1.70220000e+01 1.64404800e+01 3.16904000e+01\n",
            "  9.10489000e+02]\n",
            " [5.10000000e+01 1.83700000e+01 1.05000000e+02 6.03000000e+00\n",
            "  1.56177000e+00 9.62000000e+00 1.27600000e+01 3.21000000e+00\n",
            "  5.13660000e+02]\n",
            " [5.30000000e+01 3.67901662e+01 1.01000000e+02 1.01750000e+01\n",
            "  2.53493167e+00 2.71841000e+01 2.00300000e+01 1.02630900e+01\n",
            "  6.95754000e+02]\n",
            " [5.90000000e+01 2.28328793e+01 9.80000000e+01 6.86200000e+00\n",
            "  1.65877413e+00 1.49037000e+01 4.23010500e+00 8.20490000e+00\n",
            "  3.55310000e+02]\n",
            " [4.30000000e+01 3.44221736e+01 8.90000000e+01 2.31940000e+01\n",
            "  5.09185613e+00 3.12128000e+01 8.30095500e+00 6.71026000e+00\n",
            "  9.60246000e+02]\n",
            " [6.50000000e+01 2.96665480e+01 8.50000000e+01 1.46490000e+01\n",
            "  3.07140700e+00 2.65166000e+01 7.28287000e+00 1.94632400e+01\n",
            "  1.69844000e+03]\n",
            " [3.80000000e+01 2.33400000e+01 7.50000000e+01 5.78200000e+00\n",
            "  1.06967000e+00 1.52600000e+01 1.79500000e+01 9.35000000e+00\n",
            "  1.65020000e+02]\n",
            " [2.80000000e+01 3.58558147e+01 8.70000000e+01 8.57600000e+00\n",
            "  1.84040960e+00 6.85102000e+01 4.79420000e+00 2.14436600e+01\n",
            "  3.58624000e+02]\n",
            " [6.60000000e+01 3.62122789e+01 1.01000000e+02 1.55330000e+01\n",
            "  3.86978807e+00 7.47069000e+01 7.53955000e+00 2.23202400e+01\n",
            "  8.64968000e+02]\n",
            " [7.60000000e+01 2.92184076e+01 8.30000000e+01 5.37600000e+00\n",
            "  1.10064640e+00 2.85620000e+01 7.36996000e+00 8.04375000e+00\n",
            "  6.98789000e+02]\n",
            " [8.60000000e+01 2.11111111e+01 9.20000000e+01 3.54900000e+00\n",
            "  8.05386400e-01 6.69940000e+00 4.81924000e+00 1.05763500e+01\n",
            "  7.73920000e+02]\n",
            " [6.80000000e+01 3.55600000e+01 1.31000000e+02 8.15000000e+00\n",
            "  2.63353667e+00 1.78700000e+01 1.19000000e+01 4.19000000e+00\n",
            "  1.98400000e+02]\n",
            " [4.10000000e+01 2.66727633e+01 9.70000000e+01 2.20330000e+01\n",
            "  5.27176247e+00 4.47059000e+01 1.34948650e+01 2.78325000e+01\n",
            "  7.83796000e+02]\n",
            " [4.50000000e+01 2.68500000e+01 9.20000000e+01 3.33000000e+00\n",
            "  7.55688000e-01 5.46800000e+01 1.21000000e+01 1.09600000e+01\n",
            "  2.68230000e+02]\n",
            " [4.60000000e+01 3.31800000e+01 9.20000000e+01 5.75000000e+00\n",
            "  1.30486667e+00 1.86900000e+01 9.16000000e+00 8.89000000e+00\n",
            "  2.09190000e+02]\n",
            " [2.50000000e+01 2.28600000e+01 8.20000000e+01 4.09000000e+00\n",
            "  8.27270667e-01 2.04500000e+01 2.36700000e+01 5.14000000e+00\n",
            "  3.13730000e+02]\n",
            " [6.90000000e+01 3.50927015e+01 1.01000000e+02 5.64600000e+00\n",
            "  1.40660680e+00 8.34821000e+01 6.79698500e+00 8.21000000e+01\n",
            "  2.63499000e+02]\n",
            " [4.80000000e+01 2.81250000e+01 9.00000000e+01 2.54000000e+00\n",
            "  5.63880000e-01 1.55325000e+01 1.02223100e+01 1.61103200e+01\n",
            "  1.69844000e+03]\n",
            " [6.10000000e+01 3.20389594e+01 8.50000000e+01 1.80770000e+01\n",
            "  3.79014433e+00 3.07729000e+01 7.78025500e+00 1.36839200e+01\n",
            "  4.44395000e+02]\n",
            " [8.20000000e+01 3.12174818e+01 1.00000000e+02 1.80770000e+01\n",
            "  4.45899333e+00 3.16453000e+01 9.92365000e+00 1.99468700e+01\n",
            "  9.94316000e+02]\n",
            " [7.20000000e+01 2.55900000e+01 8.20000000e+01 2.82000000e+00\n",
            "  5.70392000e-01 2.49600000e+01 3.37500000e+01 3.27000000e+00\n",
            "  3.92460000e+02]\n",
            " [3.60000000e+01 2.85766758e+01 8.60000000e+01 4.34500000e+00\n",
            "  9.21719333e-01 1.51248000e+01 8.60000000e+00 9.15390000e+00\n",
            "  5.34224000e+02]\n",
            " [4.20000000e+01 2.92968750e+01 9.80000000e+01 4.17200000e+00\n",
            "  1.00851147e+00 1.22617000e+01 6.69558500e+00 5.36717000e+01\n",
            "  1.04184300e+03]\n",
            " [6.60000000e+01 3.14465409e+01 9.00000000e+01 9.24500000e+00\n",
            "  2.05239000e+00 4.59624000e+01 1.03552600e+01 2.33819000e+01\n",
            "  1.10211000e+03]\n",
            " [6.60000000e+01 2.77000000e+01 9.00000000e+01 6.04200000e+00\n",
            "  1.34132400e+00 2.48460000e+01 7.65205500e+00 6.70520000e+00\n",
            "  2.25880000e+02]\n",
            " [6.70000000e+01 2.96067673e+01 7.90000000e+01 5.81900000e+00\n",
            "  1.13392913e+00 2.19033000e+01 2.19428000e+00 4.20750000e+00\n",
            "  5.85307000e+02]\n",
            " [4.00000000e+01 2.76360544e+01 1.03000000e+02 2.43200000e+00\n",
            "  6.17890133e-01 1.43224000e+01 6.78387000e+00 2.60136000e+01\n",
            "  2.93123000e+02]\n",
            " [7.50000000e+01 3.04800000e+01 1.52000000e+02 7.01000000e+00\n",
            "  2.62828267e+00 5.05300000e+01 1.00600000e+01 1.17300000e+01\n",
            "  9.94500000e+01]\n",
            " [3.80000000e+01 2.24996371e+01 9.50000000e+01 5.26100000e+00\n",
            "  1.23282767e+00 8.43800000e+00 4.77192000e+00 1.57360600e+01\n",
            "  1.99055000e+02]\n",
            " [8.20000000e+01 2.31246704e+01 9.10000000e+01 4.49800000e+00\n",
            "  1.00965107e+00 1.79393000e+01 2.24320400e+01 9.27715000e+00\n",
            "  5.54697000e+02]\n",
            " [3.40000000e+01 2.42424242e+01 9.20000000e+01 2.16990000e+01\n",
            "  4.92422640e+00 1.67353000e+01 2.18237450e+01 1.20653400e+01\n",
            "  4.81949000e+02]\n",
            " [4.50000000e+01 2.93847567e+01 9.00000000e+01 4.71300000e+00\n",
            "  1.04628600e+00 2.38479000e+01 6.64424500e+00 1.55562500e+01\n",
            "  6.21273000e+02]\n",
            " [4.40000000e+01 2.78876171e+01 9.90000000e+01 9.20800000e+00\n",
            "  2.24859360e+00 1.26757000e+01 5.47817000e+00 2.30330600e+01\n",
            "  4.07206000e+02]\n",
            " [7.20000000e+01 2.36200000e+01 1.05000000e+02 4.42000000e+00\n",
            "  1.14478000e+00 2.17800000e+01 1.78600000e+01 4.82000000e+00\n",
            "  1.95940000e+02]\n",
            " [4.70000000e+01 2.20300000e+01 8.40000000e+01 2.86900000e+00\n",
            "  5.90000000e-01 2.66500000e+01 3.80400000e+01 3.32000000e+00\n",
            "  1.91720000e+02]\n",
            " [6.50000000e+01 3.20500000e+01 9.70000000e+01 5.73000000e+00\n",
            "  1.37099800e+00 6.14800000e+01 2.25400000e+01 1.03300000e+01\n",
            "  3.14050000e+02]\n",
            " [2.40000000e+01 1.86700000e+01 8.80000000e+01 6.10700000e+00\n",
            "  1.33000000e+00 8.88000000e+00 3.60600000e+01 6.85000000e+00\n",
            "  6.32220000e+02]\n",
            " [4.60000000e+01 2.08300000e+01 8.80000000e+01 3.42000000e+00\n",
            "  7.42368000e-01 1.28700000e+01 1.85500000e+01 1.35600000e+01\n",
            "  3.01210000e+02]\n",
            " [5.00000000e+01 3.85787585e+01 1.06000000e+02 6.70300000e+00\n",
            "  1.75261107e+00 4.66401000e+01 4.66764500e+00 1.17838800e+01\n",
            "  8.87160000e+02]\n",
            " [5.10000000e+01 1.91326531e+01 9.30000000e+01 4.36400000e+00\n",
            "  1.00110160e+00 1.10816000e+01 5.80762000e+00 5.57055000e+00\n",
            "  9.06000000e+01]\n",
            " [7.40000000e+01 2.86501377e+01 8.80000000e+01 3.01200000e+00\n",
            "  6.53804800e-01 3.11233000e+01 7.65222000e+00 1.83557400e+01\n",
            "  5.72401000e+02]\n",
            " [6.00000000e+01 2.63492921e+01 1.03000000e+02 5.13800000e+00\n",
            "  1.30539453e+00 2.42998000e+01 2.19428000e+00 2.02535000e+01\n",
            "  3.78996000e+02]\n",
            " [4.90000000e+01 2.09566075e+01 9.40000000e+01 1.23050000e+01\n",
            "  2.85311933e+00 1.12406000e+01 8.41217500e+00 2.31177000e+01\n",
            "  5.73630000e+02]\n",
            " [5.10000000e+01 2.76887781e+01 7.70000000e+01 3.85500000e+00\n",
            "  7.32193000e-01 2.00920000e+01 3.19209000e+00 1.03751800e+01\n",
            "  4.73859000e+02]\n",
            " [8.60000000e+01 2.66666667e+01 2.01000000e+02 4.16110000e+01\n",
            "  2.06307338e+01 4.76470000e+01 5.35713500e+00 2.43701000e+01\n",
            "  1.69844000e+03]\n",
            " [4.90000000e+01 2.28544577e+01 9.20000000e+01 3.22600000e+00\n",
            "  7.32086933e-01 6.83170000e+00 1.36797500e+01 1.03176000e+01\n",
            "  5.30410000e+02]\n",
            " [7.30000000e+01 2.20000000e+01 9.70000000e+01 3.35000000e+00\n",
            "  8.01543333e-01 4.47000000e+00 1.03587250e+01 6.28445000e+00\n",
            "  1.36855000e+02]\n",
            " [3.60000000e+01 3.41748900e+01 8.00000000e+01 6.59000000e+00\n",
            "  1.30042667e+00 1.02809000e+01 5.06591500e+00 1.57218700e+01\n",
            "  5.81313000e+02]\n",
            " [6.90000000e+01 2.84444444e+01 1.08000000e+02 8.80800000e+00\n",
            "  2.34645120e+00 1.47485000e+01 5.28802500e+00 1.64850800e+01\n",
            "  3.53568000e+02]\n",
            " [8.10000000e+01 3.16403682e+01 1.00000000e+02 9.66900000e+00\n",
            "  2.38502000e+00 3.88066000e+01 1.06365250e+01 2.95583000e+01\n",
            "  4.26175000e+02]\n",
            " [6.20000000e+01 2.26562500e+01 9.20000000e+01 3.48200000e+00\n",
            "  7.90181867e-01 9.86480000e+00 1.12362350e+01 1.06954800e+01\n",
            "  7.03973000e+02]\n",
            " [4.90000000e+01 2.97777778e+01 7.00000000e+01 8.39600000e+00\n",
            "  1.44970933e+00 5.13387000e+01 1.07317400e+01 2.07680100e+01\n",
            "  6.02486000e+02]\n",
            " [7.60000000e+01 2.71000000e+01 1.10000000e+02 2.62110000e+01\n",
            "  7.11191800e+00 2.17780000e+01 4.93563500e+00 8.49395000e+00\n",
            "  4.58430000e+01]\n",
            " [7.50000000e+01 2.57000000e+01 9.40000000e+01 8.07900000e+00\n",
            "  1.87325080e+00 6.59260000e+01 3.74122000e+00 4.49685000e+00\n",
            "  2.06802000e+02]\n",
            " [8.50000000e+01 2.76887781e+01 1.96000000e+02 5.18140000e+01\n",
            "  2.50503419e+01 7.08824000e+01 7.90168500e+00 5.52153000e+01\n",
            "  1.07835900e+03]\n",
            " [6.90000000e+01 2.15138585e+01 1.12000000e+02 6.68300000e+00\n",
            "  1.84629013e+00 3.25800000e+01 4.13802500e+00 1.56987600e+01\n",
            "  7.13239000e+02]\n",
            " [4.50000000e+01 3.70356082e+01 8.30000000e+01 6.76000000e+00\n",
            "  1.38399733e+00 3.99802000e+01 4.61712500e+00 8.70448000e+00\n",
            "  5.86173000e+02]\n",
            " [7.60000000e+01 2.38000000e+01 1.18000000e+02 6.47000000e+00\n",
            "  1.88320133e+00 4.31100000e+00 1.32513200e+01 5.10420000e+00\n",
            "  2.80694000e+02]\n",
            " [7.20000000e+01 2.91363163e+01 8.30000000e+01 1.09490000e+01\n",
            "  2.24162527e+00 2.68081000e+01 2.78491000e+00 1.47696600e+01\n",
            "  2.32018000e+02]\n",
            " [5.40000000e+01 2.42187500e+01 8.60000000e+01 3.73000000e+00\n",
            "  7.91257333e-01 8.68740000e+00 3.70523000e+00 1.03445500e+01\n",
            "  6.35049000e+02]\n",
            " [2.90000000e+01 3.22707878e+01 8.40000000e+01 5.81000000e+00\n",
            "  1.20383200e+00 4.56196000e+01 6.20963500e+00 2.46033000e+01\n",
            "  9.04981000e+02]\n",
            " [4.90000000e+01 2.13675214e+01 7.80000000e+01 2.64000000e+00\n",
            "  5.07936000e-01 6.33390000e+00 3.88614500e+00 2.29425400e+01\n",
            "  7.37672000e+02]\n",
            " [5.10000000e+01 2.28928200e+01 1.03000000e+02 2.74000000e+00\n",
            "  6.96142667e-01 8.01630000e+00 9.34977500e+00 1.15549200e+01\n",
            "  3.59232000e+02]\n",
            " [5.40000000e+01 3.60500000e+01 1.19000000e+02 1.19100000e+01\n",
            "  3.49598200e+00 8.92700000e+01 8.01000000e+00 5.06000000e+00\n",
            "  2.18280000e+02]\n",
            " [8.30000000e+01 2.06904945e+01 9.20000000e+01 3.11500000e+00\n",
            "  7.06897333e-01 8.84380000e+00 5.42928500e+00 4.06405000e+00\n",
            "  4.68786000e+02]\n",
            " [4.80000000e+01 3.24619114e+01 9.90000000e+01 2.86770000e+01\n",
            "  7.00292340e+00 4.60760000e+01 2.15700000e+01 1.01572600e+01\n",
            "  7.38034000e+02]\n",
            " [4.50000000e+01 2.02600000e+01 9.20000000e+01 3.44000000e+00\n",
            "  7.80650667e-01 7.65000000e+00 1.66700000e+01 7.84000000e+00\n",
            "  1.93870000e+02]\n",
            " [4.30000000e+01 3.12500000e+01 1.03000000e+02 4.32800000e+00\n",
            "  1.09960053e+00 2.57816000e+01 1.27189600e+01 3.86531000e+01\n",
            "  7.75322000e+02]\n",
            " [7.50000000e+01 2.73000000e+01 8.50000000e+01 5.19700000e+00\n",
            "  1.08963767e+00 1.03900000e+01 9.00080500e+00 7.57670000e+00\n",
            "  3.35393000e+02]\n",
            " [7.70000000e+01 2.59000000e+01 8.50000000e+01 4.58000000e+00\n",
            "  9.60273333e-01 1.37400000e+01 9.75326000e+00 1.17740000e+01\n",
            "  4.88829000e+02]\n",
            " [4.40000000e+01 2.47400000e+01 1.06000000e+02 5.84600000e+01\n",
            "  1.52853413e+01 1.81600000e+01 1.61000000e+01 5.31000000e+00\n",
            "  2.44750000e+02]\n",
            " [6.40000000e+01 3.45297228e+01 9.50000000e+01 4.42700000e+00\n",
            "  1.03739367e+00 2.12117000e+01 5.46262000e+00 6.70188000e+00\n",
            "  2.52449000e+02]\n",
            " [4.60000000e+01 2.22100000e+01 8.60000000e+01 3.69400000e+01\n",
            "  7.83620533e+00 1.01600000e+01 9.76000000e+00 5.68000000e+00\n",
            "  3.12000000e+02]\n",
            " [5.80000000e+01 2.91545190e+01 1.39000000e+02 1.65820000e+01\n",
            "  5.68541507e+00 2.28884000e+01 1.02626600e+01 1.39739900e+01\n",
            "  9.23886000e+02]\n",
            " [7.60000000e+01 2.72000000e+01 9.40000000e+01 1.40700000e+01\n",
            "  3.26236400e+00 3.58910000e+01 9.34663000e+00 8.41560000e+00\n",
            "  3.77227000e+02]\n",
            " [6.50000000e+01 3.09155767e+01 9.70000000e+01 1.04910000e+01\n",
            "  2.51014660e+00 4.40217000e+01 3.71009000e+00 2.04685000e+01\n",
            "  3.96648000e+02]\n",
            " [2.90000000e+01 2.30100000e+01 8.20000000e+01 5.66300000e+00\n",
            "  1.14543613e+00 3.55900000e+01 2.67200000e+01 4.58000000e+00\n",
            "  1.74800000e+02]\n",
            " [4.30000000e+01 2.65625000e+01 1.01000000e+02 1.05550000e+01\n",
            "  2.62960233e+00 9.80000000e+00 6.42029500e+00 1.61000000e+01\n",
            "  8.06724000e+02]\n",
            " [4.40000000e+01 2.07600000e+01 8.60000000e+01 7.55300000e+00\n",
            "  1.60000000e+00 1.40900000e+01 2.03200000e+01 7.64000000e+00\n",
            "  6.36100000e+01]\n",
            " [4.50000000e+01 2.31404959e+01 1.16000000e+02 4.90200000e+00\n",
            "  1.40262560e+00 1.79973000e+01 4.29470500e+00 5.26330000e+00\n",
            "  5.18586000e+02]\n",
            " [5.50000000e+01 3.19750149e+01 9.20000000e+01 1.66350000e+01\n",
            "  3.77503600e+00 3.72234000e+01 1.10184550e+01 7.16514000e+00\n",
            "  4.83377000e+02]\n",
            " [3.40000000e+01 2.14700000e+01 7.80000000e+01 3.46900000e+00\n",
            "  6.67435600e-01 1.45700000e+01 1.31100000e+01 6.92000000e+00\n",
            "  3.54600000e+02]\n",
            " [3.50000000e+01 3.52507611e+01 9.00000000e+01 6.81700000e+00\n",
            "  1.51337400e+00 5.06094000e+01 6.96689500e+00 2.20370300e+01\n",
            "  6.67928000e+02]\n",
            " [6.20000000e+01 2.68400000e+01 1.00000000e+02 4.53000000e+00\n",
            "  1.11740000e+00 1.24500000e+01 2.14200000e+01 7.32000000e+00\n",
            "  3.30160000e+02]\n",
            " [8.50000000e+01 2.66000000e+01 9.60000000e+01 4.46200000e+00\n",
            "  1.05660160e+00 7.85000000e+00 7.93170000e+00 9.61350000e+00\n",
            "  2.32006000e+02]]\n"
          ]
        }
      ]
    },
    {
      "cell_type": "code",
      "source": [
        "lb = LabelEncoder()\n",
        "lb.fit(y_train)\n",
        "\n",
        "y_train = lb.transform(y_train)\n",
        "y_test = lb.transform(y_test)"
      ],
      "metadata": {
        "id": "EGPe8L070wDd"
      },
      "execution_count": 161,
      "outputs": []
    },
    {
      "cell_type": "code",
      "source": [
        "scaler = StandardScaler()\n",
        "scaler.fit(X_train)\n",
        "\n",
        "X_train = scaler.transform(X_train)\n",
        "X_test = scaler.transform(X_test)"
      ],
      "metadata": {
        "id": "wpxMQZtio-xW"
      },
      "execution_count": 162,
      "outputs": []
    },
    {
      "cell_type": "code",
      "source": [
        "error = []\n",
        "\n",
        "for i in range(1, 20):\n",
        "    knn = KNeighborsClassifier(n_neighbors=i)\n",
        "    knn.fit(X_train, y_train)\n",
        "\n",
        "    pred_i = knn.predict(X_test)\n",
        "    error.append(np.mean(pred_i != y_test))\n",
        "\n",
        "plt.figure()\n",
        "plt.plot(range(1, 20), error, color='red', marker='o',\n",
        "         markerfacecolor='blue', markersize=10)\n",
        "plt.title('Rata-Rata Error terhadap nilai K')\n",
        "plt.xlabel('Nilai K')\n",
        "plt.ylabel('Rata-Rata Error')\n",
        "plt.show()"
      ],
      "metadata": {
        "colab": {
          "base_uri": "https://localhost:8080/",
          "height": 295
        },
        "id": "yot6dJG_pAca",
        "outputId": "e6757754-b9ca-4f30-a52f-70a47c255ff2"
      },
      "execution_count": 163,
      "outputs": [
        {
          "output_type": "display_data",
          "data": {
            "text/plain": [
              "<Figure size 432x288 with 1 Axes>"
            ],
            "image/png": "[encoded data removed]"
          },
          "metadata": {
            "needs_background": "light"
          }
        }
      ]
    },
    {
      "cell_type": "code",
      "source": [
        "classifier = KNeighborsClassifier(n_neighbors=5) \n",
        "classifier.fit(X_train, y_train)"
      ],
      "metadata": {
        "colab": {
          "base_uri": "https://localhost:8080/"
        },
        "id": "7ldvji-lpEP1",
        "outputId": "6061138c-9981-4471-d196-bfdff9d00b92"
      },
      "execution_count": 164,
      "outputs": [
        {
          "output_type": "execute_result",
          "data": {
            "text/plain": [
              "KNeighborsClassifier()"
            ]
          },
          "metadata": {},
          "execution_count": 164
        }
      ]
    },
    {
      "cell_type": "code",
      "source": [
        "cm = confusion_matrix(y_test, y_pred)\n",
        "ConfusionMatrixDisplay(cm, display_labels=lb.classes_).plot()"
      ],
      "metadata": {
        "colab": {
          "base_uri": "https://localhost:8080/",
          "height": 300
        },
        "id": "m-Lw9bOjp7J2",
        "outputId": "ad82d13c-77de-46ce-f7ed-0253c603c256"
      },
      "execution_count": 165,
      "outputs": [
        {
          "output_type": "execute_result",
          "data": {
            "text/plain": [
              "<sklearn.metrics._plot.confusion_matrix.ConfusionMatrixDisplay at 0x7fe00481cdd0>"
            ]
          },
          "metadata": {},
          "execution_count": 165
        },
        {
          "output_type": "display_data",
          "data": {
            "text/plain": [
              "<Figure size 432x288 with 2 Axes>"
            ],
            "image/png": "[encoded data removed]"
          },
          "metadata": {
            "needs_background": "light"
          }
        }
      ]
    },
    {
      "cell_type": "code",
      "source": [
        "#check accuracy of our model on the test data\n",
        "knn.score(X_train, y_train)"
      ],
      "metadata": {
        "colab": {
          "base_uri": "https://localhost:8080/"
        },
        "id": "e7CplxVTr-11",
        "outputId": "d3934e51-9814-4c40-d3ad-ddaaf0199327"
      },
      "execution_count": 166,
      "outputs": [
        {
          "output_type": "execute_result",
          "data": {
            "text/plain": [
              "0.7011494252873564"
            ]
          },
          "metadata": {},
          "execution_count": 166
        }
      ]
    },
    {
      "cell_type": "markdown",
      "source": [
        "#Decision tree"
      ],
      "metadata": {
        "id": "knLhje4ovT7j"
      }
    },
    {
      "cell_type": "code",
      "source": [
        "import pandas\n",
        "from pandas.plotting import scatter_matrix\n",
        "\n",
        "import matplotlib.pyplot as plt\n",
        "get_ipython().run_line_magic('matplotlib', 'inline')\n",
        "import numpy as np\n",
        "from sklearn import tree\n",
        "from sklearn.tree import DecisionTreeClassifier"
      ],
      "metadata": {
        "id": "wfM4lCR_vWLN"
      },
      "execution_count": 167,
      "outputs": []
    },
    {
      "cell_type": "code",
      "source": [
        "from sklearn.model_selection import train_test_split\n",
        "X_train, X_test, y_train, y_test = train_test_split(y, X, test_size=0.20)"
      ],
      "metadata": {
        "id": "j3vqQ-Lqvmtv"
      },
      "execution_count": 168,
      "outputs": []
    },
    {
      "cell_type": "code",
      "source": [
        "classifier = DecisionTreeClassifier()\n",
        "classifier.fit(X_train, y_train)"
      ],
      "metadata": {
        "colab": {
          "base_uri": "https://localhost:8080/",
          "height": 520
        },
        "id": "wcxlNQGYvtjq",
        "outputId": "6254c7df-1ad8-42b7-f738-26abfee28b10"
      },
      "execution_count": 169,
      "outputs": [
        {
          "output_type": "error",
          "ename": "ValueError",
          "evalue": "ignored",
          "traceback": [
            "\u001b[0;31m---------------------------------------------------------------------------\u001b[0m",
            "\u001b[0;31mValueError\u001b[0m                                Traceback (most recent call last)",
            "\u001b[0;32m<ipython-input-169-656077288ce7>\u001b[0m in \u001b[0;36m<module>\u001b[0;34m\u001b[0m\n\u001b[1;32m      1\u001b[0m \u001b[0mclassifier\u001b[0m \u001b[0;34m=\u001b[0m \u001b[0mDecisionTreeClassifier\u001b[0m\u001b[0;34m(\u001b[0m\u001b[0;34m)\u001b[0m\u001b[0;34m\u001b[0m\u001b[0;34m\u001b[0m\u001b[0m\n\u001b[0;32m----> 2\u001b[0;31m \u001b[0mclassifier\u001b[0m\u001b[0;34m.\u001b[0m\u001b[0mfit\u001b[0m\u001b[0;34m(\u001b[0m\u001b[0mX_train\u001b[0m\u001b[0;34m,\u001b[0m \u001b[0my_train\u001b[0m\u001b[0;34m)\u001b[0m\u001b[0;34m\u001b[0m\u001b[0;34m\u001b[0m\u001b[0m\n\u001b[0m",
            "\u001b[0;32m/usr/local/lib/python3.7/dist-packages/sklearn/tree/_classes.py\u001b[0m in \u001b[0;36mfit\u001b[0;34m(self, X, y, sample_weight, check_input, X_idx_sorted)\u001b[0m\n\u001b[1;32m    940\u001b[0m             \u001b[0msample_weight\u001b[0m\u001b[0;34m=\u001b[0m\u001b[0msample_weight\u001b[0m\u001b[0;34m,\u001b[0m\u001b[0;34m\u001b[0m\u001b[0;34m\u001b[0m\u001b[0m\n\u001b[1;32m    941\u001b[0m             \u001b[0mcheck_input\u001b[0m\u001b[0;34m=\u001b[0m\u001b[0mcheck_input\u001b[0m\u001b[0;34m,\u001b[0m\u001b[0;34m\u001b[0m\u001b[0;34m\u001b[0m\u001b[0m\n\u001b[0;32m--> 942\u001b[0;31m             \u001b[0mX_idx_sorted\u001b[0m\u001b[0;34m=\u001b[0m\u001b[0mX_idx_sorted\u001b[0m\u001b[0;34m,\u001b[0m\u001b[0;34m\u001b[0m\u001b[0;34m\u001b[0m\u001b[0m\n\u001b[0m\u001b[1;32m    943\u001b[0m         )\n\u001b[1;32m    944\u001b[0m         \u001b[0;32mreturn\u001b[0m \u001b[0mself\u001b[0m\u001b[0;34m\u001b[0m\u001b[0;34m\u001b[0m\u001b[0m\n",
            "\u001b[0;32m/usr/local/lib/python3.7/dist-packages/sklearn/tree/_classes.py\u001b[0m in \u001b[0;36mfit\u001b[0;34m(self, X, y, sample_weight, check_input, X_idx_sorted)\u001b[0m\n\u001b[1;32m    164\u001b[0m             \u001b[0mcheck_y_params\u001b[0m \u001b[0;34m=\u001b[0m \u001b[0mdict\u001b[0m\u001b[0;34m(\u001b[0m\u001b[0mensure_2d\u001b[0m\u001b[0;34m=\u001b[0m\u001b[0;32mFalse\u001b[0m\u001b[0;34m,\u001b[0m \u001b[0mdtype\u001b[0m\u001b[0;34m=\u001b[0m\u001b[0;32mNone\u001b[0m\u001b[0;34m)\u001b[0m\u001b[0;34m\u001b[0m\u001b[0;34m\u001b[0m\u001b[0m\n\u001b[1;32m    165\u001b[0m             X, y = self._validate_data(\n\u001b[0;32m--> 166\u001b[0;31m                 \u001b[0mX\u001b[0m\u001b[0;34m,\u001b[0m \u001b[0my\u001b[0m\u001b[0;34m,\u001b[0m \u001b[0mvalidate_separately\u001b[0m\u001b[0;34m=\u001b[0m\u001b[0;34m(\u001b[0m\u001b[0mcheck_X_params\u001b[0m\u001b[0;34m,\u001b[0m \u001b[0mcheck_y_params\u001b[0m\u001b[0;34m)\u001b[0m\u001b[0;34m\u001b[0m\u001b[0;34m\u001b[0m\u001b[0m\n\u001b[0m\u001b[1;32m    167\u001b[0m             )\n\u001b[1;32m    168\u001b[0m             \u001b[0;32mif\u001b[0m \u001b[0missparse\u001b[0m\u001b[0;34m(\u001b[0m\u001b[0mX\u001b[0m\u001b[0;34m)\u001b[0m\u001b[0;34m:\u001b[0m\u001b[0;34m\u001b[0m\u001b[0;34m\u001b[0m\u001b[0m\n",
            "\u001b[0;32m/usr/local/lib/python3.7/dist-packages/sklearn/base.py\u001b[0m in \u001b[0;36m_validate_data\u001b[0;34m(self, X, y, reset, validate_separately, **check_params)\u001b[0m\n\u001b[1;32m    576\u001b[0m                 \u001b[0;31m# :(\u001b[0m\u001b[0;34m\u001b[0m\u001b[0;34m\u001b[0m\u001b[0;34m\u001b[0m\u001b[0m\n\u001b[1;32m    577\u001b[0m                 \u001b[0mcheck_X_params\u001b[0m\u001b[0;34m,\u001b[0m \u001b[0mcheck_y_params\u001b[0m \u001b[0;34m=\u001b[0m \u001b[0mvalidate_separately\u001b[0m\u001b[0;34m\u001b[0m\u001b[0;34m\u001b[0m\u001b[0m\n\u001b[0;32m--> 578\u001b[0;31m                 \u001b[0mX\u001b[0m \u001b[0;34m=\u001b[0m \u001b[0mcheck_array\u001b[0m\u001b[0;34m(\u001b[0m\u001b[0mX\u001b[0m\u001b[0;34m,\u001b[0m \u001b[0;34m**\u001b[0m\u001b[0mcheck_X_params\u001b[0m\u001b[0;34m)\u001b[0m\u001b[0;34m\u001b[0m\u001b[0;34m\u001b[0m\u001b[0m\n\u001b[0m\u001b[1;32m    579\u001b[0m                 \u001b[0my\u001b[0m \u001b[0;34m=\u001b[0m \u001b[0mcheck_array\u001b[0m\u001b[0;34m(\u001b[0m\u001b[0my\u001b[0m\u001b[0;34m,\u001b[0m \u001b[0;34m**\u001b[0m\u001b[0mcheck_y_params\u001b[0m\u001b[0;34m)\u001b[0m\u001b[0;34m\u001b[0m\u001b[0;34m\u001b[0m\u001b[0m\n\u001b[1;32m    580\u001b[0m             \u001b[0;32melse\u001b[0m\u001b[0;34m:\u001b[0m\u001b[0;34m\u001b[0m\u001b[0;34m\u001b[0m\u001b[0m\n",
            "\u001b[0;32m/usr/local/lib/python3.7/dist-packages/sklearn/utils/validation.py\u001b[0m in \u001b[0;36mcheck_array\u001b[0;34m(array, accept_sparse, accept_large_sparse, dtype, order, copy, force_all_finite, ensure_2d, allow_nd, ensure_min_samples, ensure_min_features, estimator)\u001b[0m\n\u001b[1;32m    771\u001b[0m                     \u001b[0;34m\"Reshape your data either using array.reshape(-1, 1) if \"\u001b[0m\u001b[0;34m\u001b[0m\u001b[0;34m\u001b[0m\u001b[0m\n\u001b[1;32m    772\u001b[0m                     \u001b[0;34m\"your data has a single feature or array.reshape(1, -1) \"\u001b[0m\u001b[0;34m\u001b[0m\u001b[0;34m\u001b[0m\u001b[0m\n\u001b[0;32m--> 773\u001b[0;31m                     \u001b[0;34m\"if it contains a single sample.\"\u001b[0m\u001b[0;34m.\u001b[0m\u001b[0mformat\u001b[0m\u001b[0;34m(\u001b[0m\u001b[0marray\u001b[0m\u001b[0;34m)\u001b[0m\u001b[0;34m\u001b[0m\u001b[0;34m\u001b[0m\u001b[0m\n\u001b[0m\u001b[1;32m    774\u001b[0m                 )\n\u001b[1;32m    775\u001b[0m \u001b[0;34m\u001b[0m\u001b[0m\n",
            "\u001b[0;31mValueError\u001b[0m: Expected 2D array, got 1D array instead:\narray=[2. 1. 2. 2. 2. 2. 2. 1. 1. 1. 2. 1. 1. 1. 2. 2. 2. 1. 2. 2. 2. 2. 1. 2.\n 1. 2. 1. 2. 2. 2. 1. 2. 2. 1. 1. 2. 1. 2. 1. 2. 1. 2. 2. 1. 1. 1. 2. 2.\n 1. 2. 2. 1. 2. 2. 2. 1. 1. 1. 1. 1. 1. 2. 2. 2. 1. 2. 2. 2. 2. 2. 1. 2.\n 2. 1. 1. 2. 1. 1. 2. 2. 1. 1. 2. 1. 1. 2. 2. 1. 2. 1. 2. 1.].\nReshape your data either using array.reshape(-1, 1) if your data has a single feature or array.reshape(1, -1) if it contains a single sample."
          ]
        }
      ]
    },
    {
      "cell_type": "code",
      "source": [
        "Y_pred = classifier.predict(X_test)"
      ],
      "metadata": {
        "id": "wVEiKCIevvBM"
      },
      "execution_count": null,
      "outputs": []
    },
    {
      "cell_type": "code",
      "source": [
        "from sklearn.metrics import classification_report, confusion_matrix\n",
        "print(confusion_matrix(y_test, y_pred))\n",
        "print(classification_report(y_test, y_pred))"
      ],
      "metadata": {
        "id": "c__8s4jjwDSH"
      },
      "execution_count": null,
      "outputs": []
    }
  ]
}